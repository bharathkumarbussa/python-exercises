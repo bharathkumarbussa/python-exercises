{
 "cells": [
  {
   "cell_type": "markdown",
   "metadata": {},
   "source": [
    "# Math excercises\n"
   ]
  },
  {
   "cell_type": "code",
   "execution_count": null,
   "metadata": {},
   "outputs": [],
   "source": [
    "#print numbers in range from 1 to 10\n",
    "for i in range(1,11):\n",
    "    print(i)"
   ]
  },
  {
   "cell_type": "code",
   "execution_count": null,
   "metadata": {},
   "outputs": [],
   "source": [
    "#designate start and end number to print range of numbers\n",
    "start = int(input(\"Start number?\"))\n",
    "end = int(input(\"End number?\"))\n",
    "if end < start:\n",
    "    print(\"please select an end number greater than start number\")\n",
    "else:\n",
    "    for i in range(start,end + 1):\n",
    "        print(i)\n",
    "\n",
    "        "
   ]
  },
  {
   "cell_type": "code",
   "execution_count": null,
   "metadata": {},
   "outputs": [],
   "source": [
    "#print odd number from 1 to 10\n",
    "i = -1\n",
    "while i < 9:\n",
    "    i += 2\n",
    "    print(i)\n",
    "    \n",
    "for i in range(1,11):\n",
    "    if (i % 2 != 0):\n",
    "        print(i)"
   ]
  },
  {
   "cell_type": "code",
   "execution_count": null,
   "metadata": {
    "collapsed": true
   },
   "outputs": [],
   "source": [
    "#generate numbers for particular pattern \n",
    "for n in range(1,101):\n",
    "    result = n*(n+1)//2  \n",
    "    print(result)"
   ]
  },
  {
   "cell_type": "code",
   "execution_count": null,
   "metadata": {
    "collapsed": true
   },
   "outputs": [],
   "source": [
    "#print multiplication table\n",
    "for i in range(1,11):\n",
    "    for x in range(1,11):\n",
    "        result = i * x \n",
    "        print(\"{} * {} = {}\".format(i,x,result))"
   ]
  },
  {
   "cell_type": "code",
   "execution_count": null,
   "metadata": {},
   "outputs": [],
   "source": [
    "#keep giving coins when user responds with \"yes\"\n",
    "coin = 0\n",
    "proceed = True\n",
    "while proceed == True:\n",
    "    start = input(\"Would you like a coin?\")\n",
    "    if (start == \"yes\"):\n",
    "        coin += 1\n",
    "        print(\"You have {} coin(s)\".format(coin))\n",
    "    else:\n",
    "        proceed = False"
   ]
  },
  {
   "cell_type": "markdown",
   "metadata": {},
   "source": [
    "# Make cool shapes with stars\n"
   ]
  },
  {
   "cell_type": "code",
   "execution_count": null,
   "metadata": {},
   "outputs": [],
   "source": [
    "#print number or stars and rows based on user input\n",
    "rows = int(input(\"Number of rows\"))\n",
    "starsPerRow = int(input(\"Number of stars per row\"))\n",
    "\n",
    "for i in range(1,rows):\n",
    "    print(starsPerRow * \"*\" + \"\\n\" )\n",
    "    "
   ]
  },
  {
   "cell_type": "code",
   "execution_count": null,
   "metadata": {},
   "outputs": [],
   "source": [
    "#make chirstmas tree given a height from user input\n",
    "height = int(input(\"what is the height of your tree?\"))\n",
    "baseWidth = (height - 1) * 2 + 1\n",
    "for i in range(0,height ):\n",
    "    starsPerRow = i * 2 + 1\n",
    "    spacesPerRow = baseWidth - starsPerRow\n",
    "    halfSpacesPerRow = spacesPerRow//2\n",
    "\n",
    "    if( i > 0 ):\n",
    "        pairs = (starsPerRow - 1) // 2\n",
    "        starsDecoration  = (\"*O\"*pairs) + \"*\"\n",
    "       \n",
    "        print(\" \"*halfSpacesPerRow  + starsDecoration  + \" \"*halfSpacesPerRow + \"\\n\" )\n",
    "    else:\n",
    "        print(\" \"*halfSpacesPerRow  + \"*\"*starsPerRow + \" \"*halfSpacesPerRow + \"\\n\" )"
   ]
  },
  {
   "cell_type": "code",
   "execution_count": null,
   "metadata": {},
   "outputs": [],
   "source": [
    "#make a hollow box given a width and height\n",
    "width = int(input(\"What is the width?\"))\n",
    "height = int(input(\"What is the height?\"))\n",
    "spacesBetween = width - 2\n",
    "print(\"*\"*width)\n",
    "for i in range(0,height-2):\n",
    "    print(\"*\" + \" \"*spacesBetween + \"*\")\n",
    "print(\"*\"*width)\n"
   ]
  },
  {
   "cell_type": "code",
   "execution_count": null,
   "metadata": {},
   "outputs": [],
   "source": [
    "#make banner surrounding text input\n",
    "bannerMessage = input(\"Tell me something\")\n",
    "bannerWidth = len(bannerMessage) + 2\n",
    "\n",
    "print(\"*\"*bannerWidth )\n",
    "print(\"*\" + bannerMessage + \"*\")\n",
    "print(\"*\"*bannerWidth )"
   ]
  },
  {
   "cell_type": "markdown",
   "metadata": {},
   "source": [
    "# String excercises\n"
   ]
  },
  {
   "cell_type": "code",
   "execution_count": null,
   "metadata": {},
   "outputs": [],
   "source": [
    "#capitalization and uppercase\n",
    "animal = \"penguin\"\n",
    "print(animal.upper())\n",
    "print(animal.capitalize())"
   ]
  },
  {
   "cell_type": "code",
   "execution_count": null,
   "metadata": {},
   "outputs": [],
   "source": [
    "#reverse string of user input\n",
    "animal = input(\"Give me an animal \") \n",
    "reverseStr = \"\"\n",
    "length = len(animal)\n",
    "for i in range(0,length) :\n",
    "    letter = animal[((length - 1) - i)]\n",
    "    reverseStr += letter\n",
    "print(reverseStr)"
   ]
  },
  {
   "cell_type": "markdown",
   "metadata": {},
   "source": [
    "# Basic Encryption\n"
   ]
  },
  {
   "cell_type": "code",
   "execution_count": null,
   "metadata": {},
   "outputs": [],
   "source": [
    "#function that replaces a particular set of characters with others\n",
    "def letspeak(testString):  \n",
    "    letspeak = {\n",
    "    \"a\":\"4\",\n",
    "    \"e\":\"3\",\n",
    "    \"g\":\"6\",\n",
    "    \"i\":\"1\",\n",
    "    \"o\":\"0\",\n",
    "    \"s\":\"5\",\n",
    "    \"t\":\"7\"\n",
    "    }\n",
    "    resultString = \"\"\n",
    "    for i in range(0, len(testString)):\n",
    "        if testString[i] in letspeak:\n",
    "            resultString += letspeak[testString[i]]\n",
    "        else:\n",
    "            resultString += testString[i]\n",
    "    return resultString\n",
    "print( letspeak(\"hey how are you doing\"))\n",
    "    "
   ]
  },
  {
   "cell_type": "code",
   "execution_count": null,
   "metadata": {},
   "outputs": [],
   "source": [
    "#simple Caesar Cipher encryption that shifts by x number of characters\n",
    "inputText = input(\"Enter the code you wish to encrypt or decrypt: \").lower()\n",
    "inputValue = int(input(\"Please enter the key value you wish to shift: \")) \n",
    "inputEorD = input(\"Please enter e (to encrypt) or d (to decrypt) \")\n",
    "codedMessage = \"\"\n",
    "\n",
    "if inputEorD == \"e\":\n",
    "    for ch in inputText:\n",
    "        codedMessage += chr((ord(ch) - 97 + inputValue)%26 + 97)\n",
    "elif inputEorD ==\"d\":\n",
    "    for ch in inputText:\n",
    "        if (chr((ord(ch) - 97 - inputValue)%26 + 97) == \"n\"):\n",
    "            codedMessage += \" \"\n",
    "        else:\n",
    "            codedMessage += chr((ord(ch) - 97 - inputValue)%26 + 97)\n",
    "else:\n",
    "    print(\"Please enter only either e or d.\")\n",
    "print(\"Text input:\", inputText,  \". It is:\", inputEorD, \".By the key of\",inputValue, \".To make the message\", codedMessage)\n",
    "\n"
   ]
  },
  {
   "cell_type": "markdown",
   "metadata": {},
   "source": [
    "# Dict excercises\n"
   ]
  },
  {
   "cell_type": "code",
   "execution_count": 6,
   "metadata": {},
   "outputs": [
    {
     "name": "stdout",
     "output_type": "stream",
     "text": [
      "484-584-2923\n",
      "{'Alice': '703-493-1834', 'bob': '857-384-1234', 'Elizabeth': '484-584-2923', 'kareem': '938-489-1234'}\n",
      "{'Alice': '703-493-1834', 'bob': '857-384-1234', 'kareem': '938-489-1234'}\n"
     ]
    }
   ],
   "source": [
    "#simple operations involving dictionaries\n",
    "phonebook_dict = { \n",
    "'Alice': '703-493-1834',\n",
    "'bob': '857-384-1234',\n",
    "'Elizabeth': '484-584-2923'\n",
    "}\n",
    "print(phonebook_dict['Elizabeth'])\n",
    "phonebook_dict['kareem'] = '938-489-1234'\n",
    "print(phonebook_dict)\n",
    "del phonebook_dict['Elizabeth']\n",
    "print(phonebook_dict)"
   ]
  },
  {
   "cell_type": "code",
   "execution_count": 7,
   "metadata": {},
   "outputs": [
    {
     "name": "stdout",
     "output_type": "stream",
     "text": [
      "703-493-1834\n",
      "857-384-1234\n",
      "938-489-1234\n"
     ]
    }
   ],
   "source": [
    "#loop through and print values of key value paies within dictionaries\n",
    "for value in phonebook_dict:\n",
    "    print(phonebook_dict[value])\n"
   ]
  },
  {
   "cell_type": "markdown",
   "metadata": {},
   "source": [
    "# List excercises"
   ]
  },
  {
   "cell_type": "code",
   "execution_count": 10,
   "metadata": {},
   "outputs": [
    {
     "name": "stdout",
     "output_type": "stream",
     "text": [
      "26\n"
     ]
    }
   ],
   "source": [
    "#print sum of numbers within list\n",
    "numbers = [4,7,10,5]\n",
    "sum = 0\n",
    "\n",
    "for number in numbers:\n",
    "    sum += number\n",
    "print(sum)"
   ]
  },
  {
   "cell_type": "code",
   "execution_count": 11,
   "metadata": {},
   "outputs": [
    {
     "name": "stdout",
     "output_type": "stream",
     "text": [
      "10\n"
     ]
    }
   ],
   "source": [
    "#print largest number within list\n",
    "numbers = [4,7,10,5]\n",
    "largestNum = 4\n",
    "\n",
    "for number in numbers:\n",
    "    if number > largestNum:\n",
    "        largestNum = number\n",
    "print(largestNum)"
   ]
  },
  {
   "cell_type": "code",
   "execution_count": 15,
   "metadata": {},
   "outputs": [
    {
     "name": "stdout",
     "output_type": "stream",
     "text": [
      "[4, 10]\n"
     ]
    }
   ],
   "source": [
    "#print even numbers within list\n",
    "def even_numbers(numbers):\n",
    "    even = [] \n",
    "    for number in numbers:\n",
    "        if number % 2 == 0:\n",
    "            even.append(number)\n",
    "    return even\n",
    "print( even_numbers([4,7,10,5]) )"
   ]
  },
  {
   "cell_type": "code",
   "execution_count": 14,
   "metadata": {},
   "outputs": [
    {
     "name": "stdout",
     "output_type": "stream",
     "text": [
      "[4, 7, 10, 5]\n"
     ]
    }
   ],
   "source": [
    "#print positive numbers within list\n",
    "numbers = [4,7,10,5, -1]\n",
    "positive = [] \n",
    "\n",
    "for number in numbers:\n",
    "    if number > 0:\n",
    "        positive.append(number)\n",
    "print(positive)"
   ]
  },
  {
   "cell_type": "code",
   "execution_count": 16,
   "metadata": {},
   "outputs": [
    {
     "name": "stdout",
     "output_type": "stream",
     "text": [
      "10\n"
     ]
    }
   ],
   "source": [
    "# Largest Number\n",
    "def largest_number(numbers):\n",
    "    largest = numbers[0]\n",
    "    for number in numbers:\n",
    "        if number > largest:\n",
    "            largest = number\n",
    "    return largest\n",
    "print (largest_number([4, 7, 10, 5]) )"
   ]
  },
  {
   "cell_type": "code",
   "execution_count": null,
   "metadata": {
    "collapsed": true
   },
   "outputs": [],
   "source": [
    "# Smallest Number\n",
    "def smallest_number(numbers):\n",
    "    smallest = numbers[0]\n",
    "    for number in numbers:\n",
    "        if number < smallest:\n",
    "            smallest = number\n",
    "    return smallest\n",
    "print ( smallest_number([4, 7, 10, 5]) )"
   ]
  },
  {
   "cell_type": "code",
   "execution_count": null,
   "metadata": {
    "collapsed": true
   },
   "outputs": [],
   "source": [
    "# Smallest Number\n",
    "def smallests_number(numbers):\n",
    "    smallest = numbers[0]\n",
    "    for number in numbers:\n",
    "        if number < smallest:\n",
    "            smallest = number\n",
    "    return smallest\n",
    "print ( smallest_number([4, 7, 10, 5]) )"
   ]
  },
  {
   "cell_type": "markdown",
   "metadata": {},
   "source": [
    "# Vector excercises"
   ]
  },
  {
   "cell_type": "code",
   "execution_count": 17,
   "metadata": {},
   "outputs": [
    {
     "name": "stdout",
     "output_type": "stream",
     "text": [
      "[8, -21, 30, -25]\n"
     ]
    }
   ],
   "source": [
    "# Multiply Vectors\n",
    "def multiply_vectors(vector1, vector2):\n",
    "    multiplied = []\n",
    "    for i in range(len(vector1)):\n",
    "        multiplied.append(vector1[i] * vector2[i])\n",
    "    return multiplied\n",
    "print (multiply_vectors(\n",
    "    [4, -7, -10, 5],\n",
    "    [2, 3, -3, -5]\n",
    ")  )"
   ]
  },
  {
   "cell_type": "code",
   "execution_count": 19,
   "metadata": {},
   "outputs": [
    {
     "name": "stdout",
     "output_type": "stream",
     "text": [
      "[[7, 0], [6, 3]]\n"
     ]
    }
   ],
   "source": [
    "matrix1 = [\n",
    "    [2, -2],\n",
    "    [5, 3]\n",
    "    ]\n",
    "    \n",
    "matrix2 = [\n",
    "    [5, 2],\n",
    "    [1, 0]\n",
    "    ]\n",
    "\n",
    "# Matrix Addition\n",
    "def add_matrices(matrix1, matrix2):\n",
    "    height = len(matrix1)\n",
    "    width = len(matrix1[0])\n",
    "    result = []\n",
    "    # Initialize the resulting matrix\n",
    "    for i in range(0, height):\n",
    "        result.append([])\n",
    "        for j in range(0, width):\n",
    "            result[i].append(None)\n",
    "    # Fill in the matrix\n",
    "    for i in range(0, height):\n",
    "        for j in range(0, width):\n",
    "            cell1 = matrix1[i][j]\n",
    "            cell2 = matrix2[i][j]\n",
    "            \n",
    "            result[i][j] = cell1 + cell2\n",
    "    return result\n",
    "\n",
    "print ( add_matrices(matrix1, matrix2) )"
   ]
  },
  {
   "cell_type": "code",
   "execution_count": 20,
   "metadata": {},
   "outputs": [
    {
     "name": "stdout",
     "output_type": "stream",
     "text": [
      "['apple', 'cheese', 'milk', 'bread']\n"
     ]
    }
   ],
   "source": [
    "# add item to list only once -- no duplicates\n",
    "def dedup(things):\n",
    "    deduped = []\n",
    "    for thing in things:\n",
    "        if thing not in deduped:\n",
    "            deduped.append(thing)\n",
    "    return deduped\n",
    "\n",
    "print( dedup([\n",
    "'apple',\n",
    "'cheese',\n",
    "'milk',\n",
    "'cheese',\n",
    "'bread',\n",
    "'cheese'\n",
    "]) )"
   ]
  },
  {
   "cell_type": "code",
   "execution_count": 21,
   "metadata": {
    "scrolled": true
   },
   "outputs": [
    {
     "name": "stdout",
     "output_type": "stream",
     "text": [
      "233168\n"
     ]
    }
   ],
   "source": [
    "#print \n",
    "sum = 0\n",
    "for i in range(0,1000):\n",
    "    if (i % 3 == 0):\n",
    "        sum += i\n",
    "    elif (i % 5 == 0):\n",
    "        sum += i\n",
    "print (sum)"
   ]
  },
  {
   "cell_type": "markdown",
   "metadata": {},
   "source": [
    "# Reading and writing files"
   ]
  },
  {
   "cell_type": "code",
   "execution_count": null,
   "metadata": {
    "collapsed": true
   },
   "outputs": [],
   "source": [
    "# Program that prompts the user to enter a file name, reads the contents of the file and prints it to the screen.\n",
    "\n",
    "file = open('/Users/.../text.txt','r+')\n",
    "\n",
    "for line in file.readlines():\n",
    "    print (line)\n",
    "    \n",
    "file.close()"
   ]
  },
  {
   "cell_type": "code",
   "execution_count": null,
   "metadata": {
    "collapsed": true
   },
   "outputs": [],
   "source": [
    "\n",
    "# Program that prompts the user to enter a file name, then prompts the user to enter the contents of the file, and then saves the content to the file.\n",
    "\n",
    "fileName = input(\"Enter file name/ path url\")\n",
    "content = input(\"Enter content of file\")\n",
    "\n",
    "test2 = open(fileName,'r+')\n",
    "test2.write(content)\n",
    "test2.seek(0, 0)\n",
    "    \n",
    "test2.close()"
   ]
  },
  {
   "cell_type": "code",
   "execution_count": 35,
   "metadata": {},
   "outputs": [
    {
     "ename": "FileNotFoundError",
     "evalue": "[Errno 2] No such file or directory: '/Users/...text.txt'",
     "output_type": "error",
     "traceback": [
      "\u001b[0;31m---------------------------------------------------------------------------\u001b[0m",
      "\u001b[0;31mFileNotFoundError\u001b[0m                         Traceback (most recent call last)",
      "\u001b[0;32m<ipython-input-35-1959559bf963>\u001b[0m in \u001b[0;36m<module>\u001b[0;34m()\u001b[0m\n\u001b[1;32m      3\u001b[0m \u001b[0mlettercount\u001b[0m \u001b[0;34m=\u001b[0m \u001b[0;34m{\u001b[0m\u001b[0;34m}\u001b[0m\u001b[0;34m\u001b[0m\u001b[0m\n\u001b[1;32m      4\u001b[0m \u001b[0minvalid\u001b[0m \u001b[0;34m=\u001b[0m \u001b[0;34m\"‘'`,.?!:;-_\\n—' '\"\u001b[0m\u001b[0;34m\u001b[0m\u001b[0m\n\u001b[0;32m----> 5\u001b[0;31m \u001b[0mfile\u001b[0m \u001b[0;34m=\u001b[0m \u001b[0mopen\u001b[0m\u001b[0;34m(\u001b[0m\u001b[0;34m'/Users/...text.txt'\u001b[0m\u001b[0;34m,\u001b[0m\u001b[0;34m'r+'\u001b[0m\u001b[0;34m)\u001b[0m\u001b[0;34m\u001b[0m\u001b[0m\n\u001b[0m\u001b[1;32m      6\u001b[0m \u001b[0;32mfor\u001b[0m \u001b[0mchar\u001b[0m \u001b[0;32min\u001b[0m \u001b[0mfile\u001b[0m\u001b[0;34m.\u001b[0m\u001b[0mread\u001b[0m\u001b[0;34m(\u001b[0m\u001b[0;34m)\u001b[0m\u001b[0;34m.\u001b[0m\u001b[0mlower\u001b[0m\u001b[0;34m(\u001b[0m\u001b[0;34m)\u001b[0m\u001b[0;34m:\u001b[0m\u001b[0;34m\u001b[0m\u001b[0m\n\u001b[1;32m      7\u001b[0m     \u001b[0;32mif\u001b[0m \u001b[0mchar\u001b[0m \u001b[0;32mnot\u001b[0m \u001b[0;32min\u001b[0m \u001b[0minvalid\u001b[0m\u001b[0;34m:\u001b[0m\u001b[0;34m\u001b[0m\u001b[0m\n",
      "\u001b[0;31mFileNotFoundError\u001b[0m: [Errno 2] No such file or directory: '/Users/...text.txt'"
     ]
    }
   ],
   "source": [
    "# Program that prompts the user to enter a file name, then prints the letter histogram and the word histogram of the contents of the file.\n",
    "\n",
    "lettercount = {}\n",
    "invalid = \"‘'`,.?!:;-_\\n—' '\"\n",
    "file = open('/Users/...text.txt','r+')\n",
    "for char in file.read().lower():\n",
    "    if char not in invalid:\n",
    "        lettercount[char] = lettercount.setdefault(char,0) + 1\n",
    "for letter in sorted(lettercount):\n",
    "    print(\"{} appears {} times\".format(letter,lettercount[letter]))"
   ]
  },
  {
   "cell_type": "code",
   "execution_count": null,
   "metadata": {
    "collapsed": true
   },
   "outputs": [],
   "source": [
    "#count words within text document\n",
    "wordcount = {}\n",
    "invalid = \"‘'`,.?!:;-_\\n—' '\"\n",
    "file = open('/Users/...text.txt','r+')\n",
    "for line in file.readlines():\n",
    "    for word in line.split():\n",
    "        wordcount[word] = wordcount.setdefault(word,0) + 1   \n",
    "for word in sorted(wordcount):\n",
    "    print(\"{} appears {} times\".format(word,wordcount[word]))"
   ]
  },
  {
   "cell_type": "markdown",
   "metadata": {},
   "source": [
    "# Algorithm Exercises"
   ]
  },
  {
   "cell_type": "code",
   "execution_count": 24,
   "metadata": {},
   "outputs": [
    {
     "name": "stdout",
     "output_type": "stream",
     "text": [
      "4613732\n"
     ]
    }
   ],
   "source": [
    "fib = [1,2]\n",
    "fibEven = 0\n",
    "result = 0\n",
    "i = 0 \n",
    "\n",
    "while result < 4000000:\n",
    "    result = fib[i] + fib[i + 1]\n",
    "    fib.append(result)\n",
    "    i += 1                       \n",
    "for num in fib:\n",
    "    if (num % 2 == 0):\n",
    "        fibEven += num\n",
    "print (fibEven)\n",
    "        \n",
    "    "
   ]
  },
  {
   "cell_type": "code",
   "execution_count": 25,
   "metadata": {},
   "outputs": [
    {
     "name": "stdout",
     "output_type": "stream",
     "text": [
      "sum:4613732 \n"
     ]
    }
   ],
   "source": [
    "fib = [1,2]\n",
    "fibEven = 2\n",
    "result = 0\n",
    "i = 0 \n",
    "\n",
    "while result < 4000000:\n",
    "    result = fib[i] + fib[i + 1]\n",
    "    fib.append(result) \n",
    "    if result % 2 == 0:\n",
    "        fibEven += result\n",
    "    i += 1 \n",
    "print (\"sum:{} \".format(fibEven))\n",
    "        \n",
    "    "
   ]
  },
  {
   "cell_type": "code",
   "execution_count": 27,
   "metadata": {},
   "outputs": [
    {
     "name": "stdout",
     "output_type": "stream",
     "text": [
      "{1, 2, 4, 38, 76, 79, 50, 19, 3002, 316, 1501, 158}\n"
     ]
    }
   ],
   "source": [
    "#determine factors\n",
    "factors = set()\n",
    "primeFactors = []\n",
    "num = 6004\n",
    "\n",
    "for i in range(1,num-1):\n",
    "    if num % i == 0:\n",
    "        factors.add(i)\n",
    "\n",
    "factors.add(50)\n",
    "print(factors)\n"
   ]
  },
  {
   "cell_type": "code",
   "execution_count": null,
   "metadata": {
    "collapsed": true
   },
   "outputs": [],
   "source": [
    "#determine max palindrome number\n",
    "def is_pal(c):\n",
    "    return int(str(c)[::-1]) == c\n",
    "\n",
    "maxpal = 0\n",
    "for a in range(999, 99, -1):\n",
    "    for b in range(a, 99, -1):\n",
    "        prod = a * b\n",
    "        if is_pal(prod) and prod > maxpal:\n",
    "            maxpal = prod\n",
    "\n",
    "print (maxpal)"
   ]
  },
  {
   "cell_type": "markdown",
   "metadata": {},
   "source": [
    "# exercises involving the creation of classes and methods in python"
   ]
  },
  {
   "cell_type": "code",
   "execution_count": 33,
   "metadata": {},
   "outputs": [
    {
     "name": "stdout",
     "output_type": "stream",
     "text": [
      "Nissan\n",
      "2015 Nissan Leaf\n"
     ]
    }
   ],
   "source": [
    "class Vehicle(object):\n",
    "    def __init__(self, make, model, year):\n",
    "        self.make = make\n",
    "        self.model = model\n",
    "        self.year = year\n",
    "\n",
    "    def print_info(self):\n",
    "        print ('{} {} {}'.format(self.year, self.make, self.model))\n",
    "car = Vehicle('Nissan', 'Leaf', 2015)\n",
    "print (car.make)\n",
    "               \n",
    "car.print_info()"
   ]
  },
  {
   "cell_type": "code",
   "execution_count": 31,
   "metadata": {
    "scrolled": true
   },
   "outputs": [
    {
     "name": "stdout",
     "output_type": "stream",
     "text": [
      "Hello Jordan, I am Sonny!\n",
      "You just met a new fellow.\n",
      "1\n",
      "None\n",
      "Hello Jordan, I am Sonny!\n",
      "You've already meet this fellow.\n",
      "2\n",
      "None\n",
      "Hello Jacob, I am Sonny!\n",
      "You just met a new fellow.\n",
      "3\n",
      "None\n",
      "Jordan's email: jordan@aol.com, Jordan's phone number: 495-586-3456\n",
      "None\n",
      "Hello Sonny, I am Jordan!\n",
      "1\n",
      "None\n",
      "2\n",
      "None\n",
      "1\n",
      "None\n",
      "{'Jordan': 2, 'Jacob': 1}\n",
      "None\n",
      "{'Sonny': 1}\n",
      "None\n"
     ]
    }
   ],
   "source": [
    "class Person(object):\n",
    "    def __init__(self, name, email, phone):\n",
    "        self.name = name\n",
    "        self.email = email\n",
    "        self.phone = phone\n",
    "        self.friends = []\n",
    "        self.greeting_count = 0\n",
    "        self.met = {}\n",
    "        \n",
    "        \n",
    "    def __repr__(self):\n",
    "        return \"{} {} {} {}\".format(self.name, self.email,self.phone, self.friends)\n",
    "\n",
    "    def greet(self, other_person):\n",
    "        print ('Hello {}, I am {}!'.format(other_person.name, self.name))\n",
    "        self.greeting_count += 1   \n",
    "        if other_person.name not in self.met:\n",
    "            print(\"You just met a new fellow.\")\n",
    "            self.met[other_person.name] = 0\n",
    "            self.met[other_person.name] += 1    \n",
    "            other_person.met[self.name] = 0\n",
    "        else:\n",
    "            print(\"You've already meet this fellow.\")\n",
    "            self.met[other_person.name] += 1  \n",
    "            other_person.met[self.name] += 1\n",
    "         \n",
    "        print (self.greeting_count )\n",
    "    \n",
    "    def print_contact_info (self):\n",
    "        print (\"{}'s email: {}, {}'s phone number: {}\".format(self.name, self.email, self.name, self.phone))\n",
    "        \n",
    "    def add_friend(self, new_friend):\n",
    "        self.friends.append(new_friend.name)\n",
    "        print ('Hello {}, I am {}!'.format(new_friend.name, self.name))\n",
    "        \n",
    "    def num_friends(self):\n",
    "        print ( len(self.friends) )\n",
    "        \n",
    "    def num_unique_people_greeted(self):\n",
    "        print (len(self.met))\n",
    "    def person_greeted(self):\n",
    "        print (self.met)\n",
    "        \n",
    "jacob = Person(\"Jacob\", \"jacob@gmail.com\", \"678-245-8345\")\n",
    "sonny = Person(\"Sonny\",\"sonny@hotmail.com\",\"483-485-4948\")\n",
    "jordan = Person(\"Jordan\",\"jordan@aol.com\",\"495-586-3456\")\n",
    "\n",
    "print (sonny.greet(jordan))\n",
    "print (sonny.greet(jordan))\n",
    "print(sonny.greet(jacob))\n",
    "print (jordan.print_contact_info())\n",
    "\n",
    "jordan.add_friend(sonny)\n",
    "print (jordan.num_friends())\n",
    "\n",
    "print (sonny.num_unique_people_greeted() )\n",
    "print (jordan.num_unique_people_greeted() )\n",
    "\n",
    "print (sonny.person_greeted() )\n",
    "print (jordan.person_greeted() )"
   ]
  },
  {
   "cell_type": "code",
   "execution_count": 36,
   "metadata": {},
   "outputs": [
    {
     "name": "stdout",
     "output_type": "stream",
     "text": [
      "(0) None\n",
      "(1) Chipotle\n",
      "(2) Subway\n",
      "(3) Burgerking\n",
      "(4) Dominos\n",
      "Where would you like to eat? (0-4)2\n",
      "Your Choice: Subway\n",
      "You have visited this place 1 times\n",
      "Menu:\n",
      "(1) turkey sub\n",
      "(2) veggie sub\n",
      "(3) pizza\n",
      "What would you like to eat (1-3)3\n",
      "Your Choice: pizza\n",
      "Where would you like to eat? (0-4)4\n",
      "Your Choice: Dominos\n",
      "You have visited this place 1 times\n",
      "Menu:\n",
      "(1) cheese pizza\n",
      "(2) meat pizza\n",
      "(3) veggie pizza\n",
      "What would you like to eat (1-3)1\n",
      "Your Choice: cheese pizza\n",
      "Where would you like to eat? (0-4)1\n",
      "Your Choice: Chipotle\n",
      "You have visited this place 1 times\n",
      "Menu:\n",
      "(1) burrito\n",
      "(2) taco\n",
      "(3) quesadilla\n",
      "What would you like to eat (1-3)2\n",
      "Your Choice: taco\n",
      "Where would you like to eat? (0-4)3\n",
      "Your Choice: Burgerking\n",
      "You have visited this place 1 times\n",
      "Menu:\n",
      "(1) burger\n",
      "(2) chicken nugggets\n",
      "(3) fries\n",
      "What would you like to eat (1-3)4\n"
     ]
    },
    {
     "ename": "IndexError",
     "evalue": "list index out of range",
     "output_type": "error",
     "traceback": [
      "\u001b[0;31m---------------------------------------------------------------------------\u001b[0m",
      "\u001b[0;31mIndexError\u001b[0m                                Traceback (most recent call last)",
      "\u001b[0;32m<ipython-input-36-61a82a79d777>\u001b[0m in \u001b[0;36m<module>\u001b[0;34m()\u001b[0m\n\u001b[1;32m     29\u001b[0m             \u001b[0mj\u001b[0m \u001b[0;34m+=\u001b[0m \u001b[0;36m1\u001b[0m\u001b[0;34m\u001b[0m\u001b[0m\n\u001b[1;32m     30\u001b[0m         \u001b[0mchoice2\u001b[0m \u001b[0;34m=\u001b[0m \u001b[0mint\u001b[0m\u001b[0;34m(\u001b[0m\u001b[0minput\u001b[0m\u001b[0;34m(\u001b[0m\u001b[0;34m\"What would you like to eat (1-{})\"\u001b[0m\u001b[0;34m.\u001b[0m\u001b[0mformat\u001b[0m\u001b[0;34m(\u001b[0m\u001b[0mlen\u001b[0m\u001b[0;34m(\u001b[0m\u001b[0mresturants\u001b[0m\u001b[0;34m[\u001b[0m\u001b[0mchoice\u001b[0m\u001b[0;34m]\u001b[0m\u001b[0;34m[\u001b[0m\u001b[0;34m\"menu\"\u001b[0m\u001b[0;34m]\u001b[0m\u001b[0;34m)\u001b[0m\u001b[0;34m)\u001b[0m\u001b[0;34m)\u001b[0m\u001b[0;34m)\u001b[0m\u001b[0;34m\u001b[0m\u001b[0m\n\u001b[0;32m---> 31\u001b[0;31m         \u001b[0mprint\u001b[0m\u001b[0;34m(\u001b[0m\u001b[0;34m\"Your Choice: {}\"\u001b[0m\u001b[0;34m.\u001b[0m\u001b[0mformat\u001b[0m\u001b[0;34m(\u001b[0m\u001b[0mresturants\u001b[0m\u001b[0;34m[\u001b[0m\u001b[0mchoice\u001b[0m\u001b[0;34m]\u001b[0m\u001b[0;34m[\u001b[0m\u001b[0;34m\"menu\"\u001b[0m\u001b[0;34m]\u001b[0m\u001b[0;34m[\u001b[0m\u001b[0mchoice2\u001b[0m \u001b[0;34m-\u001b[0m \u001b[0;36m1\u001b[0m\u001b[0;34m]\u001b[0m\u001b[0;34m)\u001b[0m\u001b[0;34m)\u001b[0m\u001b[0;34m\u001b[0m\u001b[0m\n\u001b[0m\u001b[1;32m     32\u001b[0m \u001b[0;34m\u001b[0m\u001b[0m\n\u001b[1;32m     33\u001b[0m \u001b[0;34m\u001b[0m\u001b[0m\n",
      "\u001b[0;31mIndexError\u001b[0m: list index out of range"
     ]
    }
   ],
   "source": [
    "#resturant selection application\n",
    "resturants = {\"1\": {\"name\": \"Chipotle\", \"visited\": 0, \"menu\": [\"burrito\", \"taco\", \"quesadilla\"] }, \n",
    "              \"2\":{\"name\": \"Subway\", \"visited\": 0, \"menu\": [\"turkey sub\", \"veggie sub\", \"pizza\"] }, \n",
    "              \"3\":{\"name\": \"Burgerking\", \"visited\": 0, \"menu\": [\"burger\", \"chicken nugggets\", \"fries\"] }, \n",
    "              \"4\":{\"name\": \"Dominos\", \"visited\": 0, \"menu\": [\"cheese pizza\", \"meat pizza\", \"veggie pizza\"] }\n",
    "             }\n",
    "\n",
    "\n",
    "\n",
    "def getIdKey(resturants):\n",
    "    return resturants[0]\n",
    "\n",
    "print(\"(0) None\")\n",
    "sortedResturants = sorted(resturants.items(), key = getIdKey)\n",
    "for key in sortedResturants:\n",
    "    print (\"({}) {}\".format( key[0], key[1][\"name\"]))\n",
    "\n",
    "i = 0\n",
    "while i < 5:\n",
    "    choice = input(\"Where would you like to eat? (0-{})\".format(len(resturants)))\n",
    "    if resturants[choice][\"visited\"] < 3:\n",
    "        resturants[choice][\"visited\"] += 1\n",
    "        print(\"Your Choice: {}\".format(resturants[choice][\"name\"]))\n",
    "        print(\"You have visited this place {} times\".format(resturants[choice][\"visited\"]))\n",
    "        print(\"Menu:\")\n",
    "        j = 1\n",
    "        for item in resturants[choice][\"menu\"]:\n",
    "            print (\"({}) {}\".format(j, item))\n",
    "            j += 1\n",
    "        choice2 = int(input(\"What would you like to eat (1-{})\".format(len(resturants[choice][\"menu\"]))))\n",
    "        print(\"Your Choice: {}\".format(resturants[choice][\"menu\"][choice2 - 1]))\n",
    "        \n",
    "        \n",
    "        i += 1\n",
    "    else:\n",
    "        print(\"Please choose another resturant\")\n",
    "    "
   ]
  },
  {
   "cell_type": "markdown",
   "metadata": {},
   "source": []
  }
 ],
 "metadata": {
  "kernelspec": {
   "display_name": "Python 3",
   "language": "python",
   "name": "python3"
  }
 },
 "nbformat": 4,
 "nbformat_minor": 2
}
